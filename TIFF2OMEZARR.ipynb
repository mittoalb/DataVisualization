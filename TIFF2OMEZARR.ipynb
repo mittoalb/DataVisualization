{
 "cells": [
  {
   "cell_type": "code",
   "execution_count": 14,
   "id": "29638764-78a6-4ae3-99ec-e52712416b2d",
   "metadata": {
    "tags": []
   },
   "outputs": [],
   "source": [
    "import os\n",
    "import tifffile\n",
    "import numpy as np\n",
    "import zarr\n",
    "\n",
    "from ome_zarr.io import parse_url\n",
    "from ome_zarr.writer import write_image\n",
    "\n",
    "from imjoy import api\n",
    "from imjoy_rpc import register_default_codecs\n",
    "\n",
    "def read_tiff_files(folder_path):\n",
    "    tiff_files = [f for f in os.listdir(folder_path) if f.endswith('.tif') or f.endswith('.tiff')]\n",
    "    tiff_files.sort()\n",
    "\n",
    "    tiff_data_list = []\n",
    "    for file_name in tiff_files:\n",
    "        file_path = os.path.join(folder_path, file_name)\n",
    "        tiff_data = tifffile.imread(file_path)\n",
    "        tiff_data_list.append(tiff_data)\n",
    "\n",
    "    tiff_array = np.stack(tiff_data_list)\n",
    "\n",
    "    return tiff_array\n",
    "\n",
    "# Example usage\n",
    "folder_path = '/local/data/alberto/TXM/P-1C_267_rec/'\n",
    "tiff_array = read_tiff_files(folder_path)\n"
   ]
  },
  {
   "cell_type": "code",
   "execution_count": null,
   "id": "004f2e5c-4433-4771-adb9-65efc257f26a",
   "metadata": {
    "tags": []
   },
   "outputs": [],
   "source": [
    "output_path = '/local/data/alberto/TXM/test.zarr'\n",
    "\n",
    "store = parse_url(output_path, mode=\"w\").store\n",
    "root = zarr.group(store=store)\n",
    "print(help(write_image))\n",
    "\n",
    "write_image(image=tiff_array, group=root, axes=\"zyx\", storage_options=dict(chunks=(1,128, 128)))"
   ]
  },
  {
   "cell_type": "code",
   "execution_count": 12,
   "id": "ac649d19-a227-402c-adce-cd0efc0658cc",
   "metadata": {
    "tags": []
   },
   "outputs": [],
   "source": [
    "register_default_codecs()\n",
    "\n",
    "class Plugin:\n",
    "    def __init__(self, images, view_state=None):\n",
    "        if not isinstance(images, list):\n",
    "            images = [images]\n",
    "        self.images = images\n",
    "        self.view_state = view_state\n",
    "\n",
    "    async def setup(self):\n",
    "        pass\n",
    "\n",
    "    async def run(self, ctx):\n",
    "        viewer = await api.createWindow(\n",
    "            type=\"vizarr\", src=\"https://hms-dbmi.github.io/vizarr\"\n",
    "        )\n",
    "        if self.view_state:\n",
    "            await viewer.set_view_state(self.view_state)\n",
    "        for img in self.images:\n",
    "            await viewer.add_image(img)\n",
    "\n",
    "\n",
    "def run_vizarr(images, view_state=None):\n",
    "    api.export(Plugin(images, view_state))"
   ]
  },
  {
   "cell_type": "code",
   "execution_count": 13,
   "id": "99e1a90c-1962-440d-9161-27d4812f2b31",
   "metadata": {
    "tags": []
   },
   "outputs": [
    {
     "data": {
      "application/javascript": [
       "window.connectPlugin && window.connectPlugin(\"b8279aa2-b09d-44bc-b090-582e78ffd045\")"
      ],
      "text/plain": [
       "<IPython.core.display.Javascript object>"
      ]
     },
     "metadata": {},
     "output_type": "display_data"
    },
    {
     "data": {
      "text/html": [
       "<div id=\"53a66594-095b-4aeb-a8f9-b58bb977411b\"></div>"
      ],
      "text/plain": [
       "<IPython.core.display.HTML object>"
      ]
     },
     "metadata": {},
     "output_type": "display_data"
    },
    {
     "name": "stdout",
     "output_type": "stream",
     "text": [
      "here\n"
     ]
    }
   ],
   "source": [
    "#z_grp = zarr.open(store, mode=\"r\")\n",
    "data = zarr.open('/local/data/alberto/TXM/test.zarr', mode='r')#, dtype='float')\n",
    "img = { \"source\": data}\n",
    "\n",
    "run_vizarr(img)"
   ]
  },
  {
   "cell_type": "code",
   "execution_count": null,
   "id": "c55b3e72-a81e-42c8-b553-bc0e512b8570",
   "metadata": {},
   "outputs": [],
   "source": []
  }
 ],
 "metadata": {
  "kernelspec": {
   "display_name": "ITK WIDGET TEST",
   "language": "python",
   "name": "itktest"
  },
  "language_info": {
   "codemirror_mode": {
    "name": "ipython",
    "version": 3
   },
   "file_extension": ".py",
   "mimetype": "text/x-python",
   "name": "python",
   "nbconvert_exporter": "python",
   "pygments_lexer": "ipython3",
   "version": "3.11.0"
  }
 },
 "nbformat": 4,
 "nbformat_minor": 5
}
