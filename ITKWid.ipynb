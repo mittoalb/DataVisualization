{
 "cells": [
  {
   "cell_type": "code",
   "execution_count": 26,
   "id": "a1a2a8d0-ffdc-4795-adc7-10ba8142473d",
   "metadata": {
    "tags": []
   },
   "outputs": [],
   "source": [
    "import numpy as np\n",
    "import itk\n",
    "import pooch\n",
    "from imjoy import api"
   ]
  },
  {
   "cell_type": "code",
   "execution_count": 28,
   "id": "a1bf04f6-0f93-45d6-b1cd-6db65a191ba4",
   "metadata": {
    "tags": []
   },
   "outputs": [],
   "source": [
    "file_name = pooch.retrieve('https://data.kitware.com/api/v1/file/564a5b078d777f7522dbfaa6/download',\n",
    "                           fname='005_32months_T2_RegT1_Reg2Atlas_ManualBrainMask_Stripped.nrrd',\n",
    "                           known_hash='a4a5739d5484f48653404763f807ff2b0e1900209cce029d912c2f92797207b6',\n",
    "                           progressbar=True)\n",
    "\n",
    "\n",
    "image = itk.imread(file_name)\n",
    "image = itk.GetArrayFromImage(image)\n"
   ]
  },
  {
   "cell_type": "code",
   "execution_count": 29,
   "id": "6bbdb18f-a703-41af-a276-d5ab11fbadc3",
   "metadata": {
    "tags": []
   },
   "outputs": [
    {
     "data": {
      "text/html": [
       "<div id=\"imjoy_window_2af7902c-be4e-45c9-a655-7b4146639ae6\" class=\"imjoy-inline-window\"></div>"
      ],
      "text/plain": [
       "<IPython.core.display.HTML object>"
      ]
     },
     "metadata": {},
     "output_type": "display_data"
    },
    {
     "data": {
      "text/plain": [
       "<FuturePromise pending>"
      ]
     },
     "execution_count": 29,
     "metadata": {},
     "output_type": "execute_result"
    }
   ],
   "source": [
    "api.createWindow(type=\"itk-vtk-viewer\", src=\"https://oeway.github.io/itk-vtk-viewer/\", data={\"image_array\": image})"
   ]
  },
  {
   "cell_type": "code",
   "execution_count": null,
   "id": "9276a432-45b2-42a7-ac93-ba266be7e461",
   "metadata": {},
   "outputs": [],
   "source": []
  }
 ],
 "metadata": {
  "kernelspec": {
   "display_name": "ITK WIDGET TEST",
   "language": "python",
   "name": "itktest"
  },
  "language_info": {
   "codemirror_mode": {
    "name": "ipython",
    "version": 3
   },
   "file_extension": ".py",
   "mimetype": "text/x-python",
   "name": "python",
   "nbconvert_exporter": "python",
   "pygments_lexer": "ipython3",
   "version": "3.11.0"
  }
 },
 "nbformat": 4,
 "nbformat_minor": 5
}
