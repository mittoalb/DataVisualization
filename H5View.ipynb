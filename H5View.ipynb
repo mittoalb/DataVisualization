import itk
from itkwidgets import view

import h5py
import SimpleITK as sitk
import numpy as np


def LoadH5APS(filename):
    with h5py.File(filename, 'r') as hdf5_file:
        dataset = hdf5_file['/exchange/data']
        numpy_array = np.array(dataset)
        return itk.GetImageFromArray(np.ascontiguousarray(numpy_array))

image = LoadH5APS('yourH5File.h5')

viewer = view(image)
